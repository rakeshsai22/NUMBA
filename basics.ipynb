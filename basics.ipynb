{
 "cells": [
  {
   "cell_type": "code",
   "execution_count": 2,
   "metadata": {},
   "outputs": [
    {
     "name": "stdout",
     "output_type": "stream",
     "text": [
      "Defaulting to user installation because normal site-packages is not writeable\n",
      "Collecting numba\n",
      "  Downloading numba-0.60.0-cp39-cp39-macosx_11_0_arm64.whl.metadata (2.7 kB)\n",
      "Collecting llvmlite<0.44,>=0.43.0dev0 (from numba)\n",
      "  Downloading llvmlite-0.43.0-cp39-cp39-macosx_11_0_arm64.whl.metadata (4.8 kB)\n",
      "Requirement already satisfied: numpy<2.1,>=1.22 in /Users/srisairakeshnakkilla/Library/Python/3.9/lib/python/site-packages (from numba) (1.26.4)\n",
      "Downloading numba-0.60.0-cp39-cp39-macosx_11_0_arm64.whl (2.7 MB)\n",
      "\u001b[2K   \u001b[90m━━━━━━━━━━━━━━━━━━━━━━━━━━━━━━━━━━━━━━━━\u001b[0m \u001b[32m2.7/2.7 MB\u001b[0m \u001b[31m10.8 MB/s\u001b[0m eta \u001b[36m0:00:00\u001b[0ma \u001b[36m0:00:01\u001b[0m\n",
      "\u001b[?25hDownloading llvmlite-0.43.0-cp39-cp39-macosx_11_0_arm64.whl (28.8 MB)\n",
      "\u001b[2K   \u001b[90m━━━━━━━━━━━━━━━━━━━━━━━━━━━━━━━━━━━━━━━━\u001b[0m \u001b[32m28.8/28.8 MB\u001b[0m \u001b[31m11.4 MB/s\u001b[0m eta \u001b[36m0:00:00\u001b[0m00:01\u001b[0m00:01\u001b[0m\n",
      "\u001b[?25hInstalling collected packages: llvmlite, numba\n",
      "Successfully installed llvmlite-0.43.0 numba-0.60.0\n",
      "\n",
      "\u001b[1m[\u001b[0m\u001b[34;49mnotice\u001b[0m\u001b[1;39;49m]\u001b[0m\u001b[39;49m A new release of pip is available: \u001b[0m\u001b[31;49m24.3.1\u001b[0m\u001b[39;49m -> \u001b[0m\u001b[32;49m25.0\u001b[0m\n",
      "\u001b[1m[\u001b[0m\u001b[34;49mnotice\u001b[0m\u001b[1;39;49m]\u001b[0m\u001b[39;49m To update, run: \u001b[0m\u001b[32;49m/Applications/Xcode.app/Contents/Developer/usr/bin/python3 -m pip install --upgrade pip\u001b[0m\n"
     ]
    }
   ],
   "source": [
    "!pip install numba"
   ]
  },
  {
   "cell_type": "code",
   "execution_count": null,
   "metadata": {},
   "outputs": [],
   "source": [
    "import numpy as np\n",
    "import numba\n",
    "from numba import jit\n",
    "\n",
    "# Numba is a just-in-time compiler for Python that translates a subset of Python and NumPy code into fast machine code."
   ]
  },
  {
   "cell_type": "code",
   "execution_count": null,
   "metadata": {},
   "outputs": [
    {
     "name": "stdout",
     "output_type": "stream",
     "text": [
      "0.60.0\n"
     ]
    }
   ],
   "source": [
    "print(numba.__version__)\n",
    "# Numba uses Python decorators to transform Python functions into funciton that compile themselves\n",
    "# most commonly used numba decorators are @jit >> Just-In-Time compiler : which creates a normal funciton for execution on the CPU"
   ]
  },
  {
   "cell_type": "code",
   "execution_count": 7,
   "metadata": {},
   "outputs": [],
   "source": [
    "# NUmba works best on numerical funcitons that make use of Numoy arrays and functions\n",
    "\n",
    "@jit(nopython=True)\n",
    "# nopython=True : forces Numba to compile the function in nopython mode, which means that the function will not use the Python C API\n",
    "def go_fast(a):\n",
    "    trace = 0.0\n",
    "    # assuming square input matrix\n",
    "    for i in range(a.shape[0]):\n",
    "        trace+=np.tanh(a[i,i])\n",
    "        return a+trace"
   ]
  },
  {
   "cell_type": "code",
   "execution_count": 16,
   "metadata": {},
   "outputs": [
    {
     "data": {
      "text/plain": [
       "array([[ 0.,  1.,  2.,  3.,  4.,  5.,  6.,  7.,  8.,  9.],\n",
       "       [10., 11., 12., 13., 14., 15., 16., 17., 18., 19.],\n",
       "       [20., 21., 22., 23., 24., 25., 26., 27., 28., 29.],\n",
       "       [30., 31., 32., 33., 34., 35., 36., 37., 38., 39.],\n",
       "       [40., 41., 42., 43., 44., 45., 46., 47., 48., 49.],\n",
       "       [50., 51., 52., 53., 54., 55., 56., 57., 58., 59.],\n",
       "       [60., 61., 62., 63., 64., 65., 66., 67., 68., 69.],\n",
       "       [70., 71., 72., 73., 74., 75., 76., 77., 78., 79.],\n",
       "       [80., 81., 82., 83., 84., 85., 86., 87., 88., 89.],\n",
       "       [90., 91., 92., 93., 94., 95., 96., 97., 98., 99.]])"
      ]
     },
     "execution_count": 16,
     "metadata": {},
     "output_type": "execute_result"
    }
   ],
   "source": [
    "x=np.arange(100).reshape(10,10)\n",
    "go_fast(x)"
   ]
  },
  {
   "cell_type": "code",
   "execution_count": 9,
   "metadata": {},
   "outputs": [
    {
     "name": "stdout",
     "output_type": "stream",
     "text": [
      "go_fast (Array(int64, 2, 'C', False, aligned=True),)\n",
      "--------------------------------------------------------------------------------\n",
      "# File: /var/folders/jf/88m_9jxd2h7fz0h5g45ktzv80000gn/T/ipykernel_21901/330467978.py\n",
      "# --- LINE 3 --- \n",
      "# label 0\n",
      "#   a = arg(0, name=a)  :: array(int64, 2d, C)\n",
      "\n",
      "@jit(nopython=True)\n",
      "\n",
      "# --- LINE 4 --- \n",
      "\n",
      "# nopython=True : forces Numba to compile the function in nopython mode, which means that the function will not use the Python C API\n",
      "\n",
      "# --- LINE 5 --- \n",
      "\n",
      "def go_fast(a):\n",
      "\n",
      "    # --- LINE 6 --- \n",
      "    #   trace = const(float, 0.0)  :: float64\n",
      "\n",
      "    trace = 0.0\n",
      "\n",
      "    # --- LINE 7 --- \n",
      "\n",
      "    # assuming square input matrix\n",
      "\n",
      "    # --- LINE 8 --- \n",
      "    #   $6load_global.1 = global(range: <class 'range'>)  :: Function(<class 'range'>)\n",
      "    #   $10load_attr.3 = getattr(value=a, attr=shape)  :: UniTuple(int64 x 2)\n",
      "    #   $const12.4 = const(int, 0)  :: Literal[int](0)\n",
      "    #   $14binary_subscr.5 = static_getitem(value=$10load_attr.3, index=0, index_var=$const12.4, fn=<built-in function getitem>)  :: int64\n",
      "    #   del $const12.4\n",
      "    #   del $10load_attr.3\n",
      "    #   $16call_function.6 = call $6load_global.1($14binary_subscr.5, func=$6load_global.1, args=[Var($14binary_subscr.5, 330467978.py:8)], kws=(), vararg=None, varkwarg=None, target=None)  :: (int64,) -> range_state_int64\n",
      "    #   del $6load_global.1\n",
      "    #   del $14binary_subscr.5\n",
      "    #   $18get_iter.7 = getiter(value=$16call_function.6)  :: range_iter_int64\n",
      "    #   del $16call_function.6\n",
      "    #   $phi20.0 = $18get_iter.7  :: range_iter_int64\n",
      "    #   del $18get_iter.7\n",
      "    #   jump 20\n",
      "    # label 20\n",
      "    #   $20for_iter.1 = iternext(value=$phi20.0)  :: pair<int64, bool>\n",
      "    #   del $phi20.0\n",
      "    #   $20for_iter.2 = pair_first(value=$20for_iter.1)  :: int64\n",
      "    #   $20for_iter.3 = pair_second(value=$20for_iter.1)  :: bool\n",
      "    #   del $20for_iter.1\n",
      "    #   $phi22.1 = $20for_iter.2  :: int64\n",
      "    #   del $20for_iter.2\n",
      "    #   branch $20for_iter.3, 22, 58\n",
      "    # label 22\n",
      "    #   del $20for_iter.3\n",
      "    #   i = $phi22.1  :: int64\n",
      "    #   del $phi22.1\n",
      "\n",
      "    for i in range(a.shape[0]):\n",
      "\n",
      "        # --- LINE 9 --- \n",
      "        #   $26load_global.3 = global(np: <module 'numpy' from '/Users/srisairakeshnakkilla/Library/Python/3.9/lib/python/site-packages/numpy/__init__.py'>)  :: Module(<module 'numpy' from '/Users/srisairakeshnakkilla/Library/Python/3.9/lib/python/site-packages/numpy/__init__.py'>)\n",
      "        #   $28load_method.4 = getattr(value=$26load_global.3, attr=tanh)  :: Function(<ufunc 'tanh'>)\n",
      "        #   del $26load_global.3\n",
      "        #   $36build_tuple.8 = build_tuple(items=[Var(i, 330467978.py:8), Var(i, 330467978.py:8)])  :: UniTuple(int64 x 2)\n",
      "        #   del i\n",
      "        #   $38binary_subscr.9 = getitem(value=a, index=$36build_tuple.8, fn=<built-in function getitem>)  :: int64\n",
      "        #   del $36build_tuple.8\n",
      "        #   $40call_method.10 = call $28load_method.4($38binary_subscr.9, func=$28load_method.4, args=[Var($38binary_subscr.9, 330467978.py:9)], kws=(), vararg=None, varkwarg=None, target=None)  :: (int64,) -> float64\n",
      "        #   del $38binary_subscr.9\n",
      "        #   del $28load_method.4\n",
      "        #   $42inplace_add.11 = inplace_binop(fn=<built-in function iadd>, immutable_fn=<built-in function add>, lhs=trace, rhs=$40call_method.10, static_lhs=Undefined, static_rhs=Undefined)  :: float64\n",
      "        #   del trace\n",
      "        #   del $40call_method.10\n",
      "        #   trace.1 = $42inplace_add.11  :: float64\n",
      "        #   del $42inplace_add.11\n",
      "\n",
      "        trace+=np.tanh(a[i,i])\n",
      "\n",
      "        # --- LINE 10 --- \n",
      "        #   $50binary_add.14 = arrayexpr(expr=(<built-in function add>, [Var(a, 330467978.py:3), Var(trace.1, 330467978.py:9)]), ty=array(float64, 2d, C))  :: array(float64, 2d, C)\n",
      "        #   del trace.1\n",
      "        #   del a\n",
      "        #   $56return_value.15 = cast(value=$50binary_add.14)  :: OptionalType(array(float64, 2d, C))\n",
      "        #   del $50binary_add.14\n",
      "        #   return $56return_value.15\n",
      "        # label 58\n",
      "        #   del trace\n",
      "        #   del a\n",
      "        #   del $phi22.1\n",
      "        #   del $20for_iter.3\n",
      "        #   $const58.0 = const(NoneType, None)  :: none\n",
      "        #   $60return_value.1 = cast(value=$const58.0)  :: OptionalType(array(float64, 2d, C))\n",
      "        #   del $const58.0\n",
      "        #   return $60return_value.1\n",
      "\n",
      "        return a+trace\n",
      "\n",
      "\n",
      "================================================================================\n"
     ]
    }
   ],
   "source": [
    "go_fast.inspect_types()"
   ]
  },
  {
   "cell_type": "code",
   "execution_count": null,
   "metadata": {},
   "outputs": [
    {
     "data": {
      "text/plain": [
       "array([[  0.,   2.,   4.,   6.,   8.,  10.,  12.,  14.,  16.,  18.],\n",
       "       [ 20.,  22.,  24.,  26.,  28.,  30.,  32.,  34.,  36.,  38.],\n",
       "       [ 40.,  42.,  44.,  46.,  48.,  50.,  52.,  54.,  56.,  58.],\n",
       "       [ 60.,  62.,  64.,  66.,  68.,  70.,  72.,  74.,  76.,  78.],\n",
       "       [ 80.,  82.,  84.,  86.,  88.,  90.,  92.,  94.,  96.,  98.],\n",
       "       [100., 102., 104., 106., 108., 110., 112., 114., 116., 118.],\n",
       "       [120., 122., 124., 126., 128., 130., 132., 134., 136., 138.],\n",
       "       [140., 142., 144., 146., 148., 150., 152., 154., 156., 158.],\n",
       "       [160., 162., 164., 166., 168., 170., 172., 174., 176., 178.],\n",
       "       [180., 182., 184., 186., 188., 190., 192., 194., 196., 198.]])"
      ]
     },
     "execution_count": 10,
     "metadata": {},
     "output_type": "execute_result"
    }
   ],
   "source": [
    "go_fast(2*x)\n",
    "# This first time the function was called, a new version of the function was compiled and executed. If we call it again, the previously generated function executions without another compilation step.\n",
    "# Numba can also be used to compile functions that are called from other functions"
   ]
  },
  {
   "cell_type": "code",
   "execution_count": 11,
   "metadata": {},
   "outputs": [
    {
     "name": "stdout",
     "output_type": "stream",
     "text": [
      "419 ns ± 11.5 ns per loop (mean ± std. dev. of 7 runs, 1,000,000 loops each)\n"
     ]
    }
   ],
   "source": [
    "# bencmarking the performance of the function\n",
    "%timeit go_fast(x)"
   ]
  },
  {
   "cell_type": "code",
   "execution_count": 12,
   "metadata": {},
   "outputs": [],
   "source": [
    "# testing python version of the function\n",
    "np.testing.assert_array_equal(go_fast(x), go_fast.py_func(x))"
   ]
  },
  {
   "cell_type": "code",
   "execution_count": 13,
   "metadata": {},
   "outputs": [
    {
     "name": "stdout",
     "output_type": "stream",
     "text": [
      "1.55 µs ± 36.8 ns per loop (mean ± std. dev. of 7 runs, 1,000,000 loops each)\n"
     ]
    }
   ],
   "source": [
    "# benchmarking the performance of the python version of the function\n",
    "%timeit go_fast.py_func(x)"
   ]
  },
  {
   "cell_type": "code",
   "execution_count": 14,
   "metadata": {},
   "outputs": [],
   "source": [
    "# Numpy version\n",
    "def go_numpy(a):\n",
    "    return a + np.tanh(np.diagonal(a)).sum()"
   ]
  },
  {
   "cell_type": "code",
   "execution_count": null,
   "metadata": {},
   "outputs": [],
   "source": [
    "np.testing.assert_array_equal(go_numpy(x), go_fast(x))"
   ]
  },
  {
   "cell_type": "code",
   "execution_count": null,
   "metadata": {},
   "outputs": [],
   "source": []
  }
 ],
 "metadata": {
  "kernelspec": {
   "display_name": "Python 3",
   "language": "python",
   "name": "python3"
  },
  "language_info": {
   "codemirror_mode": {
    "name": "ipython",
    "version": 3
   },
   "file_extension": ".py",
   "mimetype": "text/x-python",
   "name": "python",
   "nbconvert_exporter": "python",
   "pygments_lexer": "ipython3",
   "version": "3.9.6"
  }
 },
 "nbformat": 4,
 "nbformat_minor": 2
}
